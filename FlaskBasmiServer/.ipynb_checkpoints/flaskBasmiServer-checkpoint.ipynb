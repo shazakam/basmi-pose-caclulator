{
 "cells": [
  {
   "cell_type": "code",
   "execution_count": 82,
   "id": "c4e6afc7",
   "metadata": {},
   "outputs": [],
   "source": [
    "from flask import Flask\n",
    "from flask import request\n",
    "import werkzeug\n",
    "import cv2\n",
    "from PIL import Image\n",
    "import mediapipe as mp\n",
    "import math\n",
    "import pandas as pd\n",
    "import numpy as np\n",
    "import matplotlib.pyplot as plt"
   ]
  },
  {
   "cell_type": "markdown",
   "id": "063570eb",
   "metadata": {},
   "source": [
    "# Class containing Final Results for MediaPipe"
   ]
  },
  {
   "cell_type": "code",
   "execution_count": 120,
   "id": "cbe30a4c",
   "metadata": {},
   "outputs": [],
   "source": [
    "class Results:\n",
    "    \n",
    "    cols = [\"x\",\"y\",\"z\",\"vis\"]\n",
    "    #TRAGULAR DATA\n",
    "    trag_cols = [\"x\",\"y\",\"z\",\"vis\"]\n",
    "    trag_left_rows = [\"left_ear\",\"left_index\",\"left_elbow\",\"left_wrist\"]\n",
    "    trag_right_rows = [\"right_ear\",\"right_index\",\"right_elbow\",\"right_wrist\"]\n",
    "    tragular_left_coord = []\n",
    "    tragular_right_coord = []\n",
    "    \n",
    "    #LUMBAR DATA\n",
    "    lumbar_cols = [\"x\",\"y\",\"z\",\"vis\"]\n",
    "    lumbar_rows = [\"left_index_pos\",\"right_index_pos\",\"left_index_hol\",\"right_index_hol\",\n",
    "                  \"left_wrist\",\"right_wrist\",\"left_elbow\",\"right_elbow\"]\n",
    "    lumbar_neutral_coord = []\n",
    "    lumbar_left_coord = []\n",
    "    lumbar_right_coord = []\n",
    "    \n",
    "    #INTERMALLEOLAR DATA\n",
    "    intermalleolar_rows = [\"left_ankle\",\"right_ankle\"]\n",
    "    intermalleolar_coord = []\n",
    "    \n",
    "    #CERVICAL DATA\n",
    "    cervical_cols = [\"x\",\"y\",\"z\",\"vis\",\"euler_angle\"]\n",
    "    cervical_left_coord = []\n",
    "    cervical_neutral_coord = []\n",
    "    cervical_right_coord = []\n",
    "    \n",
    "    "
   ]
  },
  {
   "cell_type": "code",
   "execution_count": 121,
   "id": "fdf7b4f4",
   "metadata": {},
   "outputs": [],
   "source": [
    "def draw(annotated_image,results,mp_holistic):\n",
    "    mp_drawing = mp.solutions.drawing_utils\n",
    "    mp_drawing_styles = mp.solutions.drawing_styles\n",
    "    \n",
    "    mp_drawing.draw_landmarks(\n",
    "        annotated_image, \n",
    "        results.left_hand_landmarks,\n",
    "        mp_holistic.HAND_CONNECTIONS)\n",
    "    \n",
    "    mp_drawing.draw_landmarks(\n",
    "        annotated_image, \n",
    "        results.right_hand_landmarks, \n",
    "        mp_holistic.HAND_CONNECTIONS)\n",
    "    \n",
    "    mp_drawing.draw_landmarks(\n",
    "        annotated_image,\n",
    "        results.face_landmarks,\n",
    "        mp_holistic.FACEMESH_TESSELATION,\n",
    "        landmark_drawing_spec=mp_drawing.DrawingSpec(color=(255,255,255), thickness=1, circle_radius=1),\n",
    "        connection_drawing_spec=mp_drawing.DrawingSpec(color=(49,125,237),thickness=1, circle_radius=1))\n",
    "    \n",
    "    mp_drawing.draw_landmarks(\n",
    "        annotated_image,\n",
    "        results.pose_landmarks,mp_holistic.POSE_CONNECTIONS,\n",
    "        landmark_drawing_spec=mp_drawing_styles.\n",
    "        get_default_pose_landmarks_style())\n",
    "    "
   ]
  },
  {
   "cell_type": "code",
   "execution_count": 114,
   "id": "79f81115",
   "metadata": {},
   "outputs": [],
   "source": [
    "def mp_lumbar_holistic(side, file):\n",
    "    mp_holistic = mp.solutions.holistic \n",
    "    \n",
    "    holistic = mp_holistic.Holistic(\n",
    "        static_image_mode=True,\n",
    "        model_complexity=2,\n",
    "        enable_segmentation=True,\n",
    "        refine_face_landmarks=True)\n",
    "    \n",
    "    image = cv2.imread(file)\n",
    "    results = holistic.process(cv2.cvtColor(image,cv2.COLOR_BGR2RGB))\n",
    "    annotated_image = image.copy()\n",
    "    \n",
    "    draw(annotated_image,results,mp_holistic)\n",
    "    \n",
    "    cv2.imwrite(\"lumbar.png\",annotated_image)\n",
    "    \n",
    "    right_hand = results.right_hand_landmarks\n",
    "    left_hand = results.left_hand_landmarks\n",
    "    \n",
    "    left_wrist_coord = [results.pose_landmarks.landmark[mp_holistic.PoseLandmark.LEFT_WRIST].x,\n",
    "                                    results.pose_landmarks.landmark[mp_holistic.PoseLandmark.LEFT_WRIST].y,\n",
    "                                    results.pose_landmarks.landmark[mp_holistic.PoseLandmark.LEFT_WRIST].z,\n",
    "                                    results.pose_landmarks.landmark[mp_holistic.PoseLandmark.LEFT_WRIST].visibility]\n",
    "        \n",
    "    left_elbow_coord = [results.pose_landmarks.landmark[mp_holistic.PoseLandmark.LEFT_ELBOW].x,\n",
    "                                    results.pose_landmarks.landmark[mp_holistic.PoseLandmark.LEFT_ELBOW].y,\n",
    "                                    results.pose_landmarks.landmark[mp_holistic.PoseLandmark.LEFT_ELBOW].z,\n",
    "                                    results.pose_landmarks.landmark[mp_holistic.PoseLandmark.LEFT_ELBOW].visibility]\n",
    "        \n",
    "    left_index_coord_hol = [left_hand.landmark[mp_holistic.HandLandmark.INDEX_FINGER_TIP].x,\n",
    "                                    left_hand.landmark[mp_holistic.HandLandmark.INDEX_FINGER_TIP].y,\n",
    "                                    left_hand.landmark[mp_holistic.HandLandmark.INDEX_FINGER_TIP].z,\n",
    "                                    left_hand.landmark[mp_holistic.HandLandmark.INDEX_FINGER_TIP].visibility]\n",
    "    \n",
    "    left_index_coord_pos = [results.pose_landmarks.landmark[mp_holistic.PoseLandmark.LEFT_INDEX].x,\n",
    "                                    results.pose_world_landmarks.landmark[mp_holistic.PoseLandmark.LEFT_INDEX].y,\n",
    "                                    results.pose_world_landmarks.landmark[mp_holistic.PoseLandmark.LEFT_INDEX].z,\n",
    "                                    results.pose_world_landmarks.landmark[mp_holistic.PoseLandmark.LEFT_INDEX].visibility]\n",
    "        \n",
    "    right_wrist_coord = [results.pose_landmarks.landmark[mp_holistic.PoseLandmark.RIGHT_WRIST].x,\n",
    "                                    results.pose_landmarks.landmark[mp_holistic.PoseLandmark.RIGHT_WRIST].y,\n",
    "                                    results.pose_landmarks.landmark[mp_holistic.PoseLandmark.RIGHT_WRIST].z,\n",
    "                                    results.pose_landmarks.landmark[mp_holistic.PoseLandmark.RIGHT_WRIST].visibility]\n",
    "        \n",
    "    right_elbow_coord = [results.pose_landmarks.landmark[mp_holistic.PoseLandmark.RIGHT_ELBOW].x,\n",
    "                                    results.pose_landmarks.landmark[mp_holistic.PoseLandmark.RIGHT_ELBOW].y,\n",
    "                                    results.pose_landmarks.landmark[mp_holistic.PoseLandmark.RIGHT_ELBOW].z,\n",
    "                                    results.pose_landmarks.landmark[mp_holistic.PoseLandmark.RIGHT_ELBOW].visibility]\n",
    "        \n",
    "    right_index_coord_hol = [right_hand.landmark[mp_holistic.HandLandmark.INDEX_FINGER_TIP].x,\n",
    "                                    right_hand.landmark[mp_holistic.HandLandmark.INDEX_FINGER_TIP].y,\n",
    "                                    right_hand.landmark[mp_holistic.HandLandmark.INDEX_FINGER_TIP].z,\n",
    "                                    right_hand.landmark[mp_holistic.HandLandmark.INDEX_FINGER_TIP].visibility]\n",
    "        \n",
    "    right_index_coord_pos =  [results.pose_world_landmarks.landmark[mp_holistic.PoseLandmark.RIGHT_INDEX].x,\n",
    "                                    results.pose_world_landmarks.landmark[mp_holistic.PoseLandmark.RIGHT_INDEX].y,\n",
    "                                    results.pose_world_landmarks.landmark[mp_holistic.PoseLandmark.RIGHT_INDEX].z,\n",
    "                                    results.pose_world_landmarks.landmark[mp_holistic.PoseLandmark.RIGHT_INDEX].visibility]\n",
    "\n",
    "    coordinate_list = [left_index_coord_pos, right_index_coord_pos,  left_index_coord_hol, right_index_coord_hol,\n",
    "                      left_wrist_coord, right_wrist_coord, left_elbow_coord, right_elbow_coord]\n",
    "\n",
    "    \n",
    "    if(side == -1):\n",
    "        Results.lumbar_left_coord = pd.DataFrame(coordinate_list,columns=Results.lumbar_cols)\n",
    "        Results.lumbar_left_coord.index = Results.lumbar_rows\n",
    "        print(Results.lumbar_left_coord)\n",
    "        \n",
    "    elif(side == 0):\n",
    "        Results.lumbar_neutral_coord = pd.DataFrame(coordinate_list,columns=Results.lumbar_cols)\n",
    "        Results.lumbar_neutral_coord.index = Results.lumbar_rows\n",
    "        print(Results.lumbar_neutral_coord)\n",
    "        \n",
    "    else:\n",
    "        Results.lumbar_right_coord = pd.DataFrame(coordinate_list,columns=Results.lumbar_cols)\n",
    "        Results.lumbar_right_coord.index = Results.lumbar_rows\n",
    "        print(Results.lumbar_right_coord)\n",
    "    \n",
    "    \n",
    "    "
   ]
  },
  {
   "cell_type": "markdown",
   "id": "4b0f222a",
   "metadata": {},
   "source": [
    "# Functions for Measurements\n",
    "    "
   ]
  },
  {
   "cell_type": "code",
   "execution_count": 115,
   "id": "ba921f12",
   "metadata": {},
   "outputs": [],
   "source": [
    "#Function used to calculate the relevant tragular coordinates\n",
    "def mp_pose_tragular(side,file):\n",
    "    mp_holistic = mp.solutions.holistic \n",
    "\n",
    "    holistic = mp_holistic.Holistic(\n",
    "        static_image_mode=True,\n",
    "        model_complexity=2,\n",
    "        enable_segmentation=True,\n",
    "        refine_face_landmarks=True)\n",
    "    \n",
    "    image = cv2.imread(file)\n",
    "    results = holistic.process(cv2.cvtColor(image,cv2.COLOR_BGR2RGB))\n",
    "    annotated_image = image.copy()\n",
    "    \n",
    "    draw(annotated_image,results,mp_holistic)\n",
    "    \n",
    "    cv2.imwrite(\"holistic_tragular.png\",annotated_image)\n",
    "    \n",
    "    \n",
    "    if(side == 0):\n",
    "        left_hand = results.left_hand_landmarks\n",
    "        \n",
    "        left_wrist_coord = [results.pose_landmarks.landmark[mp_holistic.PoseLandmark.LEFT_WRIST].x,\n",
    "                                        results.pose_landmarks.landmark[mp_holistic.PoseLandmark.LEFT_WRIST].y,\n",
    "                                        results.pose_landmarks.landmark[mp_holistic.PoseLandmark.LEFT_WRIST].z,\n",
    "                                        results.pose_landmarks.landmark[mp_holistic.PoseLandmark.LEFT_WRIST].visibility]\n",
    "        \n",
    "        left_elbow_coord = [results.pose_landmarks.landmark[mp_holistic.PoseLandmark.LEFT_ELBOW].x,\n",
    "                                        results.pose_landmarks.landmark[mp_holistic.PoseLandmark.LEFT_ELBOW].y,\n",
    "                                        results.pose_landmarks.landmark[mp_holistic.PoseLandmark.LEFT_ELBOW].z,\n",
    "                                        results.pose_landmarks.landmark[mp_holistic.PoseLandmark.LEFT_ELBOW].visibility]\n",
    "        \n",
    "        left_ear_coord = [results.pose_landmarks.landmark[mp_holistic.PoseLandmark.LEFT_EAR].x,\n",
    "                                        results.pose_landmarks.landmark[mp_holistic.PoseLandmark.LEFT_EAR].y,\n",
    "                                        results.pose_landmarks.landmark[mp_holistic.PoseLandmark.LEFT_EAR].z,\n",
    "                                        results.pose_landmarks.landmark[mp_holistic.PoseLandmark.LEFT_EAR].visibility]\n",
    "        \n",
    "        left_index_coord = [left_hand.landmark[mp_holistic.HandLandmark.INDEX_FINGER_TIP].x,\n",
    "                                       left_hand.landmark[mp_holistic.HandLandmark.INDEX_FINGER_TIP].y,\n",
    "                                       left_hand.landmark[mp_holistic.HandLandmark.INDEX_FINGER_TIP].z,\n",
    "                                       left_hand.landmark[mp_holistic.HandLandmark.INDEX_FINGER_TIP].visibility]\n",
    "        \n",
    "        \n",
    "        \n",
    "        coordinate_list = [left_ear_coord,left_index_coord,left_elbow_coord,left_wrist_coord]\n",
    "        \n",
    "        Results.tragular_left_coord = pd.DataFrame(coordinate_list,columns=Results.trag_cols)\n",
    "        Results.tragular_left_coord.index = Results.trag_left_rows\n",
    "        print(Results.tragular_left_coord)\n",
    "    else:\n",
    "        right_hand = results.right_hand_landmarks\n",
    "        \n",
    "        right_wrist_coord = [results.pose_landmarks.landmark[mp_holistic.PoseLandmark.RIGHT_WRIST].x,\n",
    "                                        results.pose_landmarks.landmark[mp_holistic.PoseLandmark.RIGHT_WRIST].y,\n",
    "                                        results.pose_landmarks.landmark[mp_holistic.PoseLandmark.RIGHT_WRIST].z,\n",
    "                                        results.pose_landmarks.landmark[mp_holistic.PoseLandmark.RIGHT_WRIST].visibility]\n",
    "        \n",
    "        right_elbow_coord = [results.pose_landmarks.landmark[mp_holistic.PoseLandmark.RIGHT_ELBOW].x,\n",
    "                                        results.pose_landmarks.landmark[mp_holistic.PoseLandmark.RIGHT_ELBOW].y,\n",
    "                                        results.pose_landmarks.landmark[mp_holistic.PoseLandmark.RIGHT_ELBOW].z,\n",
    "                                        results.pose_landmarks.landmark[mp_holistic.PoseLandmark.RIGHT_ELBOW].visibility]\n",
    "        \n",
    "        right_ear_coord = [results.pose_landmarks.landmark[mp_holistic.PoseLandmark.RIGHT_EAR].x,\n",
    "                                        results.pose_landmarks.landmark[mp_holistic.PoseLandmark.RIGHT_EAR].y,\n",
    "                                        results.pose_landmarks.landmark[mp_holistic.PoseLandmark.RIGHT_EAR].z,\n",
    "                                        results.pose_landmarks.landmark[mp_holistic.PoseLandmark.RIGHT_EAR].visibility]\n",
    "        \n",
    "        right_index_coord = [right_hand.landmark[mp_holistic.HandLandmark.INDEX_FINGER_TIP].x,\n",
    "                                       right_hand.landmark[mp_holistic.HandLandmark.INDEX_FINGER_TIP].y,\n",
    "                                       right_hand.landmark[mp_holistic.HandLandmark.INDEX_FINGER_TIP].z,\n",
    "                                       right_hand.landmark[mp_holistic.HandLandmark.INDEX_FINGER_TIP].visibility]\n",
    "        \n",
    "        \n",
    "        coordinate_list = [right_ear_coord,right_index_coord,right_elbow_coord,right_wrist_coord]\n",
    "        \n",
    "        Results.tragular_right_coord = pd.DataFrame(coordinate_list,columns=Results.trag_cols)\n",
    "        Results.tragular_right_coord.index = Results.trag_right_rows\n",
    "        print(Results.tragular_right_coord)\n",
    "    "
   ]
  },
  {
   "cell_type": "code",
   "execution_count": 116,
   "id": "02a4d44e",
   "metadata": {},
   "outputs": [],
   "source": [
    "#Function used to calculate relevant lumbar coordinates\n",
    "def mp_pose_lumbar(side,file):\n",
    "    \n",
    "    mp_drawing = mp.solutions.drawing_utils\n",
    "    mp_drawing_styles = mp.solutions.drawing_styles\n",
    "    mp_pose = mp.solutions.pose\n",
    "    pose = mp_pose.Pose(static_image_mode = True,model_complexity = 2, enable_segmentation=True,min_detection_confidence = 0.5)\n",
    "    image = cv2.imread(file)\n",
    "    results = pose.process(cv2.cvtColor(image,cv2.COLOR_BGR2RGB))\n",
    "    mp_drawing.draw_landmarks(\n",
    "        image,\n",
    "        results.pose_landmarks,\n",
    "        mp_pose.POSE_CONNECTIONS,\n",
    "        landmark_drawing_spec=mp_drawing.DrawingSpec(color=(255,255,255), thickness=5, circle_radius=6),\n",
    "        connection_drawing_spec=mp_drawing.DrawingSpec(color=(49,125,237),\n",
    "        thickness=5, circle_radius=5))\n",
    "    mp_drawing.plot_landmarks(results.pose_world_landmarks, mp_pose.POSE_CONNECTIONS)\n",
    "    cv2.imwrite(\"lumbar.png\",image)\n",
    "\n",
    "    coordinate_list = [[results.pose_landmarks.landmark[mp_pose.PoseLandmark.LEFT_INDEX].x,\n",
    "                            results.pose_world_landmarks.landmark[mp_pose.PoseLandmark.LEFT_INDEX].y,\n",
    "                            results.pose_world_landmarks.landmark[mp_pose.PoseLandmark.LEFT_INDEX].z,\n",
    "                            results.pose_world_landmarks.landmark[mp_pose.PoseLandmark.LEFT_INDEX].visibility],\n",
    "                           [results.pose_world_landmarks.landmark[mp_pose.PoseLandmark.RIGHT_INDEX].x,\n",
    "                            results.pose_world_landmarks.landmark[mp_pose.PoseLandmark.RIGHT_INDEX].y,\n",
    "                            results.pose_world_landmarks.landmark[mp_pose.PoseLandmark.RIGHT_INDEX].z,\n",
    "                            results.pose_world_landmarks.landmark[mp_pose.PoseLandmark.RIGHT_INDEX].visibility]]\n",
    "\n",
    "    \n",
    "    if(side == -1):\n",
    "        Results.lumbar_left_coord = pd.DataFrame(coordinate_list,columns=Results.lumbar_cols)\n",
    "        Results.lumbar_left_coord.index = Results.lumbar_rows\n",
    "        print(Results.lumbar_left_coord)\n",
    "    elif(side == 0):\n",
    "        Results.lumbar_neutral_coord = pd.DataFrame(coordinate_list,columns=Results.lumbar_cols)\n",
    "        Results.lumbar_neutral_coord.index = Results.lumbar_rows\n",
    "        print(Results.lumbar_neutral_coord)\n",
    "    else:\n",
    "        Results.lumbar_right_coord = pd.DataFrame(coordinate_list,columns=Results.lumbar_cols)\n",
    "        Results.lumbar_right_coord.index = Results.lumbar_rows\n",
    "        print(Results.lumbar_right_coord)\n",
    "    \n",
    "    \n",
    "    "
   ]
  },
  {
   "cell_type": "code",
   "execution_count": 117,
   "id": "fdf70601",
   "metadata": {},
   "outputs": [],
   "source": [
    "def mp_pose_intermalleolar(file):\n",
    "    mp_drawing = mp.solutions.drawing_utils\n",
    "    mp_drawing_styles = mp.solutions.drawing_styles\n",
    "    mp_pose = mp.solutions.pose\n",
    "    pose = mp_pose.Pose(static_image_mode = True,model_complexity = 2, enable_segmentation=True,min_detection_confidence = 0.5)\n",
    "    image = cv2.imread(file)\n",
    "    results = pose.process(cv2.cvtColor(image,cv2.COLOR_BGR2RGB))\n",
    "    mp_drawing.draw_landmarks(\n",
    "        image,\n",
    "        results.pose_landmarks,\n",
    "        mp_pose.POSE_CONNECTIONS,\n",
    "        landmark_drawing_spec=mp_drawing.DrawingSpec(color=(255,255,255), thickness=5, circle_radius=6),\n",
    "        connection_drawing_spec=mp_drawing.DrawingSpec(color=(49,125,237),\n",
    "        thickness=5, circle_radius=5))\n",
    "    mp_drawing.plot_landmarks(results.pose_world_landmarks, mp_pose.POSE_CONNECTIONS)\n",
    "    cv2.imwrite(\"intermalleolar.png\",image)\n",
    "    \n",
    "    coordinate_list = [[results.pose_landmarks.landmark[mp_pose.PoseLandmark.LEFT_ANKLE].x,\n",
    "                            results.pose_world_landmarks.landmark[mp_pose.PoseLandmark.LEFT_ANKLE].y,\n",
    "                            results.pose_world_landmarks.landmark[mp_pose.PoseLandmark.LEFT_ANKLE].z,\n",
    "                            results.pose_world_landmarks.landmark[mp_pose.PoseLandmark.LEFT_ANKLE].visibility],\n",
    "                       \n",
    "                            [results.pose_world_landmarks.landmark[mp_pose.PoseLandmark.RIGHT_ANKLE].x,\n",
    "                            results.pose_world_landmarks.landmark[mp_pose.PoseLandmark.RIGHT_ANKLE].y,\n",
    "                            results.pose_world_landmarks.landmark[mp_pose.PoseLandmark.RIGHT_ANKLE].z,\n",
    "                            results.pose_world_landmarks.landmark[mp_pose.PoseLandmark.RIGHT_ANKLE].visibility]]\n",
    "    Results.intermalleolar_coord = pd.DataFrame(coordinate_list,columns=Results.cols)\n",
    "    Results.intermalleolar_coord.index = Results.intermalleolar_rows\n",
    "    "
   ]
  },
  {
   "cell_type": "code",
   "execution_count": 118,
   "id": "06d48306",
   "metadata": {},
   "outputs": [],
   "source": [
    "def mp_pose_cervical(file,side):\n",
    "    mp_drawing = mp.solutions.drawing_utils\n",
    "    mp_drawing_styles = mp.solutions.drawing_styles\n",
    "    mp_pose = mp.solutions.pose\n",
    "    pose = mp_pose.Pose(static_image_mode = True,model_complexity = 2, enable_segmentation=True,min_detection_confidence = 0.5)\n",
    "    image = cv2.imread(file)\n",
    "    results = pose.process(cv2.cvtColor(image,cv2.COLOR_BGR2RGB))\n",
    "    mp_drawing.draw_landmarks(\n",
    "        image,\n",
    "        results.pose_landmarks,\n",
    "        mp_pose.POSE_CONNECTIONS,\n",
    "        landmark_drawing_spec=mp_drawing.DrawingSpec(color=(255,255,255), thickness=50, circle_radius=10),\n",
    "        connection_drawing_spec=mp_drawing.DrawingSpec(color=(49,125,237),\n",
    "        thickness=50, circle_radius=10))\n",
    "    mp_drawing.plot_landmarks(results.pose_world_landmarks, mp_pose.POSE_CONNECTIONS)\n",
    "    cv2.imwrite(\"cervical.png\",image)\n",
    "    \n",
    "    coordinate_list = [[results.pose_world_landmarks.landmark[mp_pose.PoseLandmark.NOSE].x,\n",
    "                       results.pose_world_landmarks.landmark[mp_pose.PoseLandmark.NOSE].y,\n",
    "                       results.pose_world_landmarks.landmark[mp_pose.PoseLandmark.NOSE].z,\n",
    "                       results.pose_world_landmarks.landmark[mp_pose.PoseLandmark.NOSE].visibility]]\n",
    "    \n",
    "    if side == -1:\n",
    "        Results.cervical_left_coord = pd.DataFrame(coordinate_list,columns=Results.cols)\n",
    "        Results.cervical_left_coord.index = [\"left_nose_coordinates\"]\n",
    "    elif side == 0:\n",
    "        Results.cervical_neutral_coord = pd.DataFrame(coordinate_list,columns=Results.cols)\n",
    "        Results.cervical_neutral_coord.index = [\"neutral_nose_coordinates\"]\n",
    "    else:\n",
    "        Results.cervical_right_coord = pd.DataFrame(coordinate_list,columns=Results.cols)\n",
    "        Results.cervical_right_coord.index = [\"right_nose_coordinates\"]\n",
    "    print(Results.cervical_left_coord)\n",
    "    print(Results.cervical_neutral_coord)\n",
    "    print(Results.cervical_right_coord)\n",
    "    \n",
    "    \n",
    "    "
   ]
  },
  {
   "cell_type": "markdown",
   "id": "ea4c8b07",
   "metadata": {},
   "source": [
    "# Server Code"
   ]
  },
  {
   "cell_type": "code",
   "execution_count": 119,
   "id": "0895dde9",
   "metadata": {},
   "outputs": [
    {
     "name": "stdout",
     "output_type": "stream",
     "text": [
      " * Serving Flask app \"__main__\" (lazy loading)\n",
      " * Environment: production\n",
      "\u001b[31m   WARNING: This is a development server. Do not use it in a production deployment.\u001b[0m\n",
      "\u001b[2m   Use a production WSGI server instead.\u001b[0m\n",
      " * Debug mode: off\n"
     ]
    },
    {
     "name": "stderr",
     "output_type": "stream",
     "text": [
      " * Running on all addresses.\n",
      "   WARNING: This is a development server. Do not use it in a production deployment.\n",
      " * Running on http://138.38.187.62:5000/ (Press CTRL+C to quit)\n",
      "138.38.214.43 - - [15/Jul/2022 17:32:18] \"POST /debug HTTP/1.1\" 200 -\n"
     ]
    },
    {
     "name": "stdout",
     "output_type": "stream",
     "text": [
      "LUMBAR CONNECTED\n",
      "\n",
      "Received image file name: neutral_lumbar.jpg\n"
     ]
    },
    {
     "name": "stderr",
     "output_type": "stream",
     "text": [
      "138.38.214.43 - - [15/Jul/2022 17:32:31] \"POST /lumbarNeutral HTTP/1.1\" 200 -\n"
     ]
    },
    {
     "name": "stdout",
     "output_type": "stream",
     "text": [
      "                        x         y         z       vis\n",
      "left_index_pos   0.594508  0.093422 -0.125562  0.987595\n",
      "right_index_pos -0.141260  0.060818 -0.226586  0.983652\n",
      "left_index_hol   0.573249  0.659511 -0.004372  0.000000\n",
      "right_index_hol  0.377815  0.667323 -0.009098  0.000000\n",
      "left_wrist       0.602552  0.593775 -0.365544  0.992463\n",
      "right_wrist      0.357150  0.596285 -0.394553  0.991301\n",
      "left_elbow       0.596771  0.492499 -0.181857  0.991695\n",
      "right_elbow      0.377134  0.489215 -0.202681  0.987640\n",
      "\n",
      "Successful upload\n",
      "\n",
      "Received image file name: Right_lumbar.jpg\n"
     ]
    },
    {
     "name": "stderr",
     "output_type": "stream",
     "text": [
      "[2022-07-15 17:33:23,923] ERROR in app: Exception on /lumbarRight [POST]\n",
      "Traceback (most recent call last):\n",
      "  File \"/Users/louisgodtfredsen/opt/anaconda3/lib/python3.9/site-packages/flask/app.py\", line 2447, in wsgi_app\n",
      "    response = self.full_dispatch_request()\n",
      "  File \"/Users/louisgodtfredsen/opt/anaconda3/lib/python3.9/site-packages/flask/app.py\", line 1952, in full_dispatch_request\n",
      "    rv = self.handle_user_exception(e)\n",
      "  File \"/Users/louisgodtfredsen/opt/anaconda3/lib/python3.9/site-packages/flask/app.py\", line 1821, in handle_user_exception\n",
      "    reraise(exc_type, exc_value, tb)\n",
      "  File \"/Users/louisgodtfredsen/opt/anaconda3/lib/python3.9/site-packages/flask/_compat.py\", line 39, in reraise\n",
      "    raise value\n",
      "  File \"/Users/louisgodtfredsen/opt/anaconda3/lib/python3.9/site-packages/flask/app.py\", line 1950, in full_dispatch_request\n",
      "    rv = self.dispatch_request()\n",
      "  File \"/Users/louisgodtfredsen/opt/anaconda3/lib/python3.9/site-packages/flask/app.py\", line 1936, in dispatch_request\n",
      "    return self.view_functions[rule.endpoint](**req.view_args)\n",
      "  File \"/var/folders/m2/pmjxjx5x06gfn7cms40klj3h0000gn/T/ipykernel_88564/3844898376.py\", line 61, in lumbarRight\n",
      "    mp_lumbar_holistic(1,filename)\n",
      "  File \"/var/folders/m2/pmjxjx5x06gfn7cms40klj3h0000gn/T/ipykernel_88564/2620333772.py\", line 51, in mp_lumbar_holistic\n",
      "    right_index_coord_hol = [right_hand.landmark[mp_holistic.HandLandmark.INDEX_FINGER_TIP].x,\n",
      "AttributeError: 'NoneType' object has no attribute 'landmark'\n",
      "138.38.214.43 - - [15/Jul/2022 17:33:23] \"POST /lumbarRight HTTP/1.1\" 500 -\n"
     ]
    },
    {
     "name": "stdout",
     "output_type": "stream",
     "text": [
      "\n",
      "Received image file name: left_lumbar.jpg\n"
     ]
    },
    {
     "name": "stderr",
     "output_type": "stream",
     "text": [
      "138.38.214.43 - - [15/Jul/2022 17:34:05] \"POST /lumbarLeft HTTP/1.1\" 200 -\n"
     ]
    },
    {
     "name": "stdout",
     "output_type": "stream",
     "text": [
      "                        x         y         z       vis\n",
      "left_index_pos   0.556938  0.264423 -0.083112  0.972224\n",
      "right_index_pos -0.082205 -0.054296 -0.283736  0.983589\n",
      "left_index_hol   0.551039  0.725596  0.004756  0.000000\n",
      "right_index_hol  0.389994  0.591740  0.003819  0.000000\n",
      "left_wrist       0.564917  0.664466 -0.237688  0.983777\n",
      "right_wrist      0.394814  0.528354 -0.464931  0.991110\n",
      "left_elbow       0.596712  0.575925 -0.064912  0.974266\n",
      "right_elbow      0.444626  0.440389 -0.332009  0.985828\n",
      "\n",
      "Successful upload\n",
      "\n",
      "Received image file name: Right_lumbar.jpg\n"
     ]
    },
    {
     "name": "stderr",
     "output_type": "stream",
     "text": [
      "138.38.214.43 - - [15/Jul/2022 17:36:00] \"POST /lumbarRight HTTP/1.1\" 200 -\n"
     ]
    },
    {
     "name": "stdout",
     "output_type": "stream",
     "text": [
      "                        x         y         z       vis\n",
      "left_index_pos   0.489347 -0.030770 -0.184182  0.990676\n",
      "right_index_pos -0.165203  0.168203 -0.222103  0.976331\n",
      "left_index_hol   0.490883  0.679457 -0.006632  0.000000\n",
      "right_index_hol  0.337486  0.773670 -0.008648  0.000000\n",
      "left_wrist       0.497186  0.622551 -0.438353  0.994299\n",
      "right_wrist      0.331858  0.709944 -0.340867  0.986721\n",
      "left_elbow       0.493411  0.537437 -0.253568  0.992490\n",
      "right_elbow      0.324496  0.618624 -0.143255  0.972978\n",
      "\n",
      "Successful upload\n"
     ]
    },
    {
     "name": "stderr",
     "output_type": "stream",
     "text": [
      "138.38.214.43 - - [15/Jul/2022 17:40:37] \"POST /debug HTTP/1.1\" 200 -\n"
     ]
    },
    {
     "name": "stdout",
     "output_type": "stream",
     "text": [
      "TRAGULAR CONNECTED\n"
     ]
    },
    {
     "name": "stderr",
     "output_type": "stream",
     "text": [
      "138.38.214.43 - - [15/Jul/2022 17:40:39] \"POST /debug HTTP/1.1\" 200 -\n"
     ]
    },
    {
     "name": "stdout",
     "output_type": "stream",
     "text": [
      "LUMBAR CONNECTED\n",
      "\n",
      "Received image file name: neutral_lumbar.jpg\n"
     ]
    },
    {
     "name": "stderr",
     "output_type": "stream",
     "text": [
      "138.38.214.43 - - [15/Jul/2022 17:40:54] \"POST /lumbarNeutral HTTP/1.1\" 200 -\n"
     ]
    },
    {
     "name": "stdout",
     "output_type": "stream",
     "text": [
      "                        x         y         z       vis\n",
      "left_index_pos   0.594508  0.093422 -0.125562  0.987595\n",
      "right_index_pos -0.141260  0.060818 -0.226586  0.983652\n",
      "left_index_hol   0.573249  0.659511 -0.004372  0.000000\n",
      "right_index_hol  0.377815  0.667323 -0.009098  0.000000\n",
      "left_wrist       0.602552  0.593775 -0.365544  0.992463\n",
      "right_wrist      0.357150  0.596285 -0.394553  0.991301\n",
      "left_elbow       0.596771  0.492499 -0.181857  0.991695\n",
      "right_elbow      0.377134  0.489215 -0.202681  0.987640\n",
      "\n",
      "Successful upload\n",
      "\n",
      "Received image file name: Right_lumbar.jpg\n"
     ]
    },
    {
     "name": "stderr",
     "output_type": "stream",
     "text": [
      "138.38.214.43 - - [15/Jul/2022 17:41:14] \"POST /lumbarRight HTTP/1.1\" 200 -\n"
     ]
    },
    {
     "name": "stdout",
     "output_type": "stream",
     "text": [
      "                        x         y         z       vis\n",
      "left_index_pos   0.477531 -0.022107 -0.165057  0.985059\n",
      "right_index_pos -0.164492  0.181916 -0.235026  0.945523\n",
      "left_index_hol   0.480470  0.675186 -0.005501  0.000000\n",
      "right_index_hol  0.324914  0.772328 -0.004535  0.000000\n",
      "left_wrist       0.487004  0.617486 -0.396951  0.990872\n",
      "right_wrist      0.321574  0.710838 -0.359790  0.968548\n",
      "left_elbow       0.479561  0.534021 -0.242261  0.990079\n",
      "right_elbow      0.314507  0.622501 -0.166031  0.955249\n",
      "\n",
      "Successful upload\n"
     ]
    },
    {
     "name": "stderr",
     "output_type": "stream",
     "text": [
      "138.38.214.43 - - [15/Jul/2022 17:43:46] \"POST /debug HTTP/1.1\" 200 -\n"
     ]
    },
    {
     "name": "stdout",
     "output_type": "stream",
     "text": [
      "TRAGULAR CONNECTED\n"
     ]
    },
    {
     "name": "stderr",
     "output_type": "stream",
     "text": [
      "138.38.214.43 - - [15/Jul/2022 17:43:51] \"POST /debug HTTP/1.1\" 200 -\n"
     ]
    },
    {
     "name": "stdout",
     "output_type": "stream",
     "text": [
      "LUMBAR CONNECTED\n",
      "\n",
      "Received image file name: neutral_lumbar.jpg\n"
     ]
    },
    {
     "name": "stderr",
     "output_type": "stream",
     "text": [
      "138.38.214.43 - - [15/Jul/2022 17:44:05] \"POST /lumbarNeutral HTTP/1.1\" 200 -\n"
     ]
    },
    {
     "name": "stdout",
     "output_type": "stream",
     "text": [
      "                        x         y         z       vis\n",
      "left_index_pos   0.561877  0.083038 -0.153068  0.983537\n",
      "right_index_pos -0.121304  0.060746 -0.273597  0.973920\n",
      "left_index_hol   0.548382  0.712168 -0.008545  0.000000\n",
      "right_index_hol  0.392179  0.720877 -0.001348  0.000000\n",
      "left_wrist       0.572227  0.654796 -0.358827  0.989625\n",
      "right_wrist      0.374333  0.665353 -0.426492  0.985743\n",
      "left_elbow       0.568628  0.569390 -0.209192  0.990318\n",
      "right_elbow      0.380160  0.568915 -0.260069  0.982895\n",
      "\n",
      "Successful upload\n",
      "\n",
      "Received image file name: Right_lumbar.jpg\n"
     ]
    },
    {
     "name": "stderr",
     "output_type": "stream",
     "text": [
      "138.38.214.43 - - [15/Jul/2022 17:44:21] \"POST /lumbarRight HTTP/1.1\" 200 -\n"
     ]
    },
    {
     "name": "stdout",
     "output_type": "stream",
     "text": [
      "                        x         y         z       vis\n",
      "left_index_pos   0.473487 -0.048613 -0.171736  0.990941\n",
      "right_index_pos -0.166635  0.220154 -0.183779  0.942960\n",
      "left_index_hol   0.476970  0.659642 -0.003411  0.000000\n",
      "right_index_hol  0.318568  0.771299  0.000364  0.000000\n",
      "left_wrist       0.481824  0.600250 -0.427293  0.995062\n",
      "right_wrist      0.318457  0.713353 -0.257923  0.965708\n",
      "left_elbow       0.466475  0.516384 -0.271633  0.992963\n",
      "right_elbow      0.307907  0.622417 -0.065154  0.933353\n",
      "\n",
      "Successful upload\n",
      "\n",
      "Received image file name: left_lumbar.jpg\n"
     ]
    },
    {
     "name": "stderr",
     "output_type": "stream",
     "text": [
      "138.38.214.43 - - [15/Jul/2022 17:44:57] \"POST /lumbarLeft HTTP/1.1\" 200 -\n"
     ]
    },
    {
     "name": "stdout",
     "output_type": "stream",
     "text": [
      "                        x         y         z       vis\n",
      "left_index_pos   0.556938  0.264423 -0.083112  0.972224\n",
      "right_index_pos -0.082205 -0.054296 -0.283736  0.983589\n",
      "left_index_hol   0.551039  0.725596  0.004756  0.000000\n",
      "right_index_hol  0.389994  0.591740  0.003819  0.000000\n",
      "left_wrist       0.564917  0.664466 -0.237688  0.983777\n",
      "right_wrist      0.394814  0.528354 -0.464931  0.991110\n",
      "left_elbow       0.596712  0.575925 -0.064912  0.974266\n",
      "right_elbow      0.444626  0.440389 -0.332009  0.985828\n",
      "\n",
      "Successful upload\n"
     ]
    },
    {
     "name": "stderr",
     "output_type": "stream",
     "text": [
      "138.38.214.43 - - [15/Jul/2022 17:45:12] \"POST /debug HTTP/1.1\" 200 -\n"
     ]
    },
    {
     "name": "stdout",
     "output_type": "stream",
     "text": [
      "LUMBAR CONNECTED\n",
      "\n",
      "Received image file name: neutral_lumbar.jpg\n"
     ]
    },
    {
     "name": "stderr",
     "output_type": "stream",
     "text": [
      "[2022-07-15 17:47:11,572] ERROR in app: Exception on /lumbarNeutral [POST]\n",
      "Traceback (most recent call last):\n",
      "  File \"/Users/louisgodtfredsen/opt/anaconda3/lib/python3.9/site-packages/flask/app.py\", line 2447, in wsgi_app\n",
      "    response = self.full_dispatch_request()\n",
      "  File \"/Users/louisgodtfredsen/opt/anaconda3/lib/python3.9/site-packages/flask/app.py\", line 1952, in full_dispatch_request\n",
      "    rv = self.handle_user_exception(e)\n",
      "  File \"/Users/louisgodtfredsen/opt/anaconda3/lib/python3.9/site-packages/flask/app.py\", line 1821, in handle_user_exception\n",
      "    reraise(exc_type, exc_value, tb)\n",
      "  File \"/Users/louisgodtfredsen/opt/anaconda3/lib/python3.9/site-packages/flask/_compat.py\", line 39, in reraise\n",
      "    raise value\n",
      "  File \"/Users/louisgodtfredsen/opt/anaconda3/lib/python3.9/site-packages/flask/app.py\", line 1950, in full_dispatch_request\n",
      "    rv = self.dispatch_request()\n",
      "  File \"/Users/louisgodtfredsen/opt/anaconda3/lib/python3.9/site-packages/flask/app.py\", line 1936, in dispatch_request\n",
      "    return self.view_functions[rule.endpoint](**req.view_args)\n",
      "  File \"/var/folders/m2/pmjxjx5x06gfn7cms40klj3h0000gn/T/ipykernel_88564/3844898376.py\", line 51, in lumbarNeutral\n",
      "    mp_lumbar_holistic(0,filename)\n",
      "  File \"/var/folders/m2/pmjxjx5x06gfn7cms40klj3h0000gn/T/ipykernel_88564/2620333772.py\", line 31, in mp_lumbar_holistic\n",
      "    left_index_coord_hol = [left_hand.landmark[mp_holistic.HandLandmark.INDEX_FINGER_TIP].x,\n",
      "AttributeError: 'NoneType' object has no attribute 'landmark'\n",
      "138.38.214.43 - - [15/Jul/2022 17:47:11] \"POST /lumbarNeutral HTTP/1.1\" 500 -\n",
      "138.38.214.43 - - [15/Jul/2022 17:47:22] \"POST /debug HTTP/1.1\" 200 -\n"
     ]
    },
    {
     "name": "stdout",
     "output_type": "stream",
     "text": [
      "INTERMALLEOLAR CONNECTED\n",
      "\n",
      "Received image file name: intermalleolar.jpg\n"
     ]
    },
    {
     "data": {
      "image/png": "[encoded data removed]",
      "text/plain": [
       "<Figure size 720x720 with 1 Axes>"
      ]
     },
     "metadata": {
      "needs_background": "light"
     },
     "output_type": "display_data"
    },
    {
     "name": "stderr",
     "output_type": "stream",
     "text": [
      "138.38.214.43 - - [15/Jul/2022 17:47:38] \"POST /intermalleolar HTTP/1.1\" 200 -\n"
     ]
    },
    {
     "name": "stdout",
     "output_type": "stream",
     "text": [
      "\n",
      "Successful upload\n"
     ]
    }
   ],
   "source": [
    "app = Flask(__name__)\n",
    "\n",
    "@app.route(\"/\")\n",
    "def showHomePage():\n",
    "    return \"This is home page\"\n",
    "\n",
    "@app.route(\"/debug\",methods=[\"POST\"])\n",
    "def debug():\n",
    "    text = request.form[\"sample\"]\n",
    "    print(text)\n",
    "    return \"received\"\n",
    "\n",
    "####POSTING RELEVANT IMAGES TO SERVER###\n",
    "\n",
    "@app.route(\"/tragularLeft\",methods=[\"POST\"])\n",
    "def tragularLeft():\n",
    "    imageFile = request.files['leftTragular']\n",
    "    filename = werkzeug.utils.secure_filename(imageFile.filename)\n",
    "    print(\"\\nReceived image file name: \"+imageFile.filename)\n",
    "    imageFile.save(filename)\n",
    "    mp_pose_tragular(0,filename)\n",
    "    print(\"\\nSuccessful upload\")\n",
    "    return \"Image uploaded successfully\"\n",
    "\n",
    "@app.route(\"/tragularRight\",methods=[\"POST\"])\n",
    "def tragularRight():\n",
    "    imageFile = request.files['rightTragular']\n",
    "    filename = werkzeug.utils.secure_filename(imageFile.filename)\n",
    "    print(\"\\nReceived image file name: \"+imageFile.filename)\n",
    "    imageFile.save(filename)\n",
    "    mp_pose_tragular(1,filename)\n",
    "    print(\"\\nSuccessful upload\")\n",
    "    return \"Image uploaded successfully\"\n",
    "\n",
    "@app.route(\"/lumbarLeft\",methods=[\"POST\"])\n",
    "def lumbarLeft():\n",
    "    imageFile = request.files['leftLumbar']\n",
    "    filename = werkzeug.utils.secure_filename(imageFile.filename)\n",
    "    print(\"\\nReceived image file name: \"+imageFile.filename)\n",
    "    imageFile.save(filename)\n",
    "    mp_lumbar_holistic(-1,filename)\n",
    "    print(\"\\nSuccessful upload\")\n",
    "    return \"Image uploaded successfully\"\n",
    "\n",
    "@app.route(\"/lumbarNeutral\",methods=[\"POST\"])\n",
    "def lumbarNeutral():\n",
    "    imageFile = request.files['neutralLumbar']\n",
    "    filename = werkzeug.utils.secure_filename(imageFile.filename)\n",
    "    print(\"\\nReceived image file name: \"+imageFile.filename)\n",
    "    imageFile.save(filename)\n",
    "    mp_lumbar_holistic(0,filename)\n",
    "    print(\"\\nSuccessful upload\")\n",
    "    return \"Image uploaded successfully\"\n",
    "\n",
    "@app.route(\"/lumbarRight\",methods=[\"POST\"])\n",
    "def lumbarRight():\n",
    "    imageFile = request.files['rightLumbar']\n",
    "    filename = werkzeug.utils.secure_filename(imageFile.filename)\n",
    "    print(\"\\nReceived image file name: \"+imageFile.filename)\n",
    "    imageFile.save(filename)\n",
    "    mp_lumbar_holistic(1,filename)\n",
    "    print(\"\\nSuccessful upload\")\n",
    "    return \"Image uploaded successfully\"\n",
    "\n",
    "@app.route(\"/intermalleolar\",methods=[\"POST\"])\n",
    "def intermalleolar():\n",
    "    imageFile = request.files['intermalleolar']\n",
    "    filename = werkzeug.utils.secure_filename(imageFile.filename)\n",
    "    print(\"\\nReceived image file name: \"+imageFile.filename)\n",
    "    imageFile.save(filename)\n",
    "    mp_pose_intermalleolar(filename)\n",
    "    print(\"\\nSuccessful upload\")\n",
    "    return \"Image uploaded successfully\"\n",
    "\n",
    "@app.route(\"/cervicalLeft\",methods=[\"POST\"])\n",
    "def cervicalLeft():\n",
    "    imageFile = request.files['leftCervical']\n",
    "    filename = werkzeug.utils.secure_filename(imageFile.filename)\n",
    "    print(\"\\nReceived image file name: \"+imageFile.filename)\n",
    "    imageFile.save(filename)\n",
    "    mp_pose_cervical(filename,-1)\n",
    "    print(\"\\nSuccessful upload\")\n",
    "    return \"Image uploaded successfully\"\n",
    "\n",
    "@app.route(\"/cervicalNeutral\",methods=[\"POST\"])\n",
    "def cervicalNeutral():\n",
    "    imageFile = request.files['neutralCervical']\n",
    "    filename = werkzeug.utils.secure_filename(imageFile.filename)\n",
    "    print(\"\\nReceived image file name: \"+imageFile.filename)\n",
    "    imageFile.save(filename)\n",
    "    mp_pose_cervical(filename,0)\n",
    "    print(\"\\nSuccessful upload\")\n",
    "    return \"Image uploaded successfully\"\n",
    "\n",
    "@app.route(\"/cervicalRight\",methods=[\"POST\"])\n",
    "def cervicalRight():\n",
    "    imageFile = request.files['rightCervical']\n",
    "    filename = werkzeug.utils.secure_filename(imageFile.filename)\n",
    "    print(\"\\nReceived image file name: \"+imageFile.filename)\n",
    "    imageFile.save(filename)\n",
    "    mp_pose_cervical(filename,1)\n",
    "    print(\"\\nSuccessful upload\")\n",
    "    return \"Image uploaded successfully\"\n",
    "    \n",
    "\n",
    "if __name__ == \"__main__\":\n",
    "    app.run(host=\"0.0.0.0\")"
   ]
  },
  {
   "cell_type": "code",
   "execution_count": 10,
   "id": "9e121708",
   "metadata": {},
   "outputs": [
    {
     "data": {
      "text/plain": [
       "[]"
      ]
     },
     "execution_count": 10,
     "metadata": {},
     "output_type": "execute_result"
    }
   ],
   "source": [
    "Results.cervical_left_coord"
   ]
  },
  {
   "cell_type": "code",
   "execution_count": 11,
   "id": "3781aa51",
   "metadata": {},
   "outputs": [
    {
     "data": {
      "text/plain": [
       "[]"
      ]
     },
     "execution_count": 11,
     "metadata": {},
     "output_type": "execute_result"
    }
   ],
   "source": [
    "Results.intermalleolar_coord"
   ]
  },
  {
   "cell_type": "code",
   "execution_count": 12,
   "id": "d1664768",
   "metadata": {},
   "outputs": [
    {
     "data": {
      "text/plain": [
       "[]"
      ]
     },
     "execution_count": 12,
     "metadata": {},
     "output_type": "execute_result"
    }
   ],
   "source": [
    "Results.cervical_left_coord"
   ]
  },
  {
   "cell_type": "code",
   "execution_count": 13,
   "id": "d9effc89",
   "metadata": {},
   "outputs": [
    {
     "data": {
      "text/plain": [
       "[]"
      ]
     },
     "execution_count": 13,
     "metadata": {},
     "output_type": "execute_result"
    }
   ],
   "source": [
    "Results.tragular_left_coord"
   ]
  },
  {
   "cell_type": "code",
   "execution_count": null,
   "id": "d8b42e11",
   "metadata": {},
   "outputs": [],
   "source": []
  }
 ],
 "metadata": {
  "kernelspec": {
   "display_name": "Python 3 (ipykernel)",
   "language": "python",
   "name": "python3"
  },
  "language_info": {
   "codemirror_mode": {
    "name": "ipython",
    "version": 3
   },
   "file_extension": ".py",
   "mimetype": "text/x-python",
   "name": "python",
   "nbconvert_exporter": "python",
   "pygments_lexer": "ipython3",
   "version": "3.9.12"
  }
 },
 "nbformat": 4,
 "nbformat_minor": 5
}
