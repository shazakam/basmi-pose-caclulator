{
 "cells": [
  {
   "cell_type": "code",
   "execution_count": 49,
   "id": "c4e6afc7",
   "metadata": {},
   "outputs": [],
   "source": [
    "from flask import Flask\n",
    "from flask import request\n",
    "import werkzeug\n",
    "import cv2\n",
    "from PIL import Image\n",
    "import mediapipe as mp\n",
    "import math\n",
    "import pandas as pd\n",
    "import numpy as np\n",
    "import matplotlib.pyplot as plt\n",
    "import threading"
   ]
  },
  {
   "cell_type": "code",
   "execution_count": 50,
   "id": "cbe30a4c",
   "metadata": {},
   "outputs": [],
   "source": [
    "class Results:\n",
    "    #TRAGULAR DATA HAS SHAP(EAR COORD,INDEX COORD)\n",
    "    trag_cols = [\"x\",\"y\",\"z\",\"vis\"]\n",
    "    trag_left_rows = [\"left_ear\",\"left_index\"]\n",
    "    trag_right_rows = [\"right_ear\",\"right_index\"]\n",
    "    tragular_left_coord = []\n",
    "    tragular_right_coord = []"
   ]
  },
  {
   "cell_type": "code",
   "execution_count": null,
   "id": "8d3b20c3",
   "metadata": {},
   "outputs": [],
   "source": []
  },
  {
   "cell_type": "code",
   "execution_count": 51,
   "id": "ba921f12",
   "metadata": {},
   "outputs": [],
   "source": [
    "def mp_pose_tragular(side,file):\n",
    "    mp_drawing = mp.solutions.drawing_utils\n",
    "    mp_drawing_styles = mp.solutions.drawing_styles\n",
    "    BG_COLOR = (192, 192, 192) # gray\n",
    "    mp_pose = mp.solutions.pose\n",
    "    pose = mp_pose.Pose(static_image_mode=True,model_complexity=2,enable_segmentation=True,min_detection_confidence=0.5)\n",
    "    image = cv2.imread(file)\n",
    "    scale_percent = 220 # percent of original size\n",
    "    width = int(image.shape[1] * scale_percent / 100)\n",
    "    height = int(image.shape[0] * scale_percent / 100)\n",
    "    dim = (width, height)\n",
    "    image = cv2.resize(image, dim, interpolation = cv2.INTER_AREA)\n",
    "    results = pose.process(cv2.cvtColor(image, cv2.COLOR_BGR2RGB))\n",
    "    \n",
    "    annotated_image = image.copy()\n",
    "    # Draw pose landmarks on the image.\n",
    "    mp_drawing.draw_landmarks(\n",
    "        annotated_image,\n",
    "        results.pose_landmarks,\n",
    "        mp_pose.POSE_CONNECTIONS,\n",
    "        landmark_drawing_spec=mp_drawing_styles.get_default_pose_landmarks_style())\n",
    "    cv2.imwrite('annotated_image' + '.jpg', annotated_image)\n",
    "    # Plot pose world landmarks.\n",
    "    mp_drawing.plot_landmarks(\n",
    "        results.pose_world_landmarks, mp_pose.POSE_CONNECTIONS)\n",
    "    \n",
    "    if(side == 0):\n",
    "        coordinate_list = [[results.pose_landmarks.landmark[mp_pose.PoseLandmark.LEFT_EAR].x,\n",
    "                                        results.pose_landmarks.landmark[mp_pose.PoseLandmark.LEFT_EAR].y,\n",
    "                                        results.pose_landmarks.landmark[mp_pose.PoseLandmark.LEFT_EAR].z,\n",
    "                                        results.pose_landmarks.landmark[mp_pose.PoseLandmark.LEFT_EAR].visibility],\n",
    "                                       [results.pose_landmarks.landmark[mp_pose.PoseLandmark.LEFT_INDEX].x,\n",
    "                                       results.pose_landmarks.landmark[mp_pose.PoseLandmark.LEFT_INDEX].y,\n",
    "                                       results.pose_landmarks.landmark[mp_pose.PoseLandmark.LEFT_INDEX].z,\n",
    "                                       results.pose_landmarks.landmark[mp_pose.PoseLandmark.LEFT_INDEX].visibility]]\n",
    "        Results.tragular_left_coord = pd.DataFrame(coordinate_list,columns=Results.trag_cols)\n",
    "        Results.tragular_left_coord.index = Results.trag_left_rows\n",
    "        print(Results.tragular_left_coord)\n",
    "    else:\n",
    "        coordinate_list = [[results.pose_landmarks.landmark[mp_pose.PoseLandmark.RIGHT_EAR].x,\n",
    "                                        results.pose_landmarks.landmark[mp_pose.PoseLandmark.RIGHT_EAR].y,\n",
    "                                        results.pose_landmarks.landmark[mp_pose.PoseLandmark.RIGHT_EAR].z,\n",
    "                                        results.pose_landmarks.landmark[mp_pose.PoseLandmark.RIGHT_EAR].visibility],\n",
    "                                       [results.pose_landmarks.landmark[mp_pose.PoseLandmark.RIGHT_INDEX].x,\n",
    "                                       results.pose_landmarks.landmark[mp_pose.PoseLandmark.RIGHT_INDEX].y,\n",
    "                                       results.pose_landmarks.landmark[mp_pose.PoseLandmark.RIGHT_INDEX].z,\n",
    "                                       results.pose_landmarks.landmark[mp_pose.PoseLandmark.RIGHT_INDEX].visibility]]\n",
    "        Results.tragular_right_coord = pd.DataFrame(coordinate_list,columns=Results.trag_cols)\n",
    "        Results.tragular_right_coord.index = Results.trag_right_rows\n",
    "        print(Results.tragular_right_coord)\n",
    "    "
   ]
  },
  {
   "cell_type": "code",
   "execution_count": null,
   "id": "02a4d44e",
   "metadata": {},
   "outputs": [],
   "source": []
  },
  {
   "cell_type": "code",
   "execution_count": null,
   "id": "0895dde9",
   "metadata": {},
   "outputs": [
    {
     "name": "stdout",
     "output_type": "stream",
     "text": [
      " * Serving Flask app \"__main__\" (lazy loading)\n",
      " * Environment: production\n",
      "\u001b[31m   WARNING: This is a development server. Do not use it in a production deployment.\u001b[0m\n",
      "\u001b[2m   Use a production WSGI server instead.\u001b[0m\n",
      " * Debug mode: off\n"
     ]
    },
    {
     "name": "stderr",
     "output_type": "stream",
     "text": [
      " * Running on all addresses.\n",
      "   WARNING: This is a development server. Do not use it in a production deployment.\n",
      " * Running on http://138.38.166.67:5000/ (Press CTRL+C to quit)\n"
     ]
    },
    {
     "name": "stdout",
     "output_type": "stream",
     "text": [
      "\n",
      "Received image file name: right_tragular.jpg\n"
     ]
    },
    {
     "name": "stderr",
     "output_type": "stream",
     "text": [
      "/Users/louisgodtfredsen/opt/anaconda3/lib/python3.9/site-packages/mediapipe/python/solutions/drawing_utils.py:318: UserWarning: Matplotlib is currently using agg, which is a non-GUI backend, so cannot show the figure.\n",
      "  plt.show()\n",
      "138.38.214.43 - - [12/Jul/2022 18:49:55] \"POST /tragularRight HTTP/1.1\" 200 -\n"
     ]
    },
    {
     "name": "stdout",
     "output_type": "stream",
     "text": [
      "                    x         y         z       vis\n",
      "right_ear    0.547792  0.422371 -0.413779  0.999962\n",
      "right_index  0.490231  0.480494 -1.062891  0.990235\n",
      "\n",
      "Successful upload\n",
      "\n",
      "Received image file name: left_tragular.jpg\n"
     ]
    },
    {
     "name": "stderr",
     "output_type": "stream",
     "text": [
      "/Users/louisgodtfredsen/opt/anaconda3/lib/python3.9/site-packages/mediapipe/python/solutions/drawing_utils.py:318: UserWarning: Matplotlib is currently using agg, which is a non-GUI backend, so cannot show the figure.\n",
      "  plt.show()\n",
      "138.38.214.43 - - [12/Jul/2022 18:51:15] \"POST /tragularLeft HTTP/1.1\" 200 -\n"
     ]
    },
    {
     "name": "stdout",
     "output_type": "stream",
     "text": [
      "                   x         y         z       vis\n",
      "left_ear    0.577219  0.187456 -0.555628  0.999987\n",
      "left_index  0.865005  0.664403 -0.639623  0.991629\n",
      "\n",
      "Successful upload\n"
     ]
    }
   ],
   "source": [
    "app = Flask(__name__)\n",
    "\n",
    "@app.route(\"/\")\n",
    "def showHomePage():\n",
    "    return \"This is home page\"\n",
    "\n",
    "@app.route(\"/debug\",methods=[\"POST\"])\n",
    "def debug():\n",
    "    text = request.form[\"sample\"]\n",
    "    print(text)\n",
    "    return \"received\"\n",
    "\n",
    "@app.route(\"/tragularLeft\",methods=[\"POST\"])\n",
    "def tragularLeft():\n",
    "    imageFile = request.files['leftTragular']\n",
    "    filename = werkzeug.utils.secure_filename(imageFile.filename)\n",
    "    print(\"\\nReceived image file name: \"+imageFile.filename)\n",
    "    imageFile.save(filename)\n",
    "    mp_pose_tragular(0,filename)\n",
    "    print(\"\\nSuccessful upload\")\n",
    "    return \"Image uploaded successfully\"\n",
    "\n",
    "@app.route(\"/tragularRight\",methods=[\"POST\"])\n",
    "def tragularRight():\n",
    "    imageFile = request.files['rightTragular']\n",
    "    filename = werkzeug.utils.secure_filename(imageFile.filename)\n",
    "    print(\"\\nReceived image file name: \"+imageFile.filename)\n",
    "    imageFile.save(filename)\n",
    "    mp_pose_tragular(1,filename)\n",
    "    print(\"\\nSuccessful upload\")\n",
    "    return \"Image uploaded successfully\"\n",
    "    \n",
    "\n",
    "if __name__ == \"__main__\":\n",
    "    app.run(host=\"0.0.0.0\")"
   ]
  },
  {
   "cell_type": "code",
   "execution_count": null,
   "id": "9e121708",
   "metadata": {},
   "outputs": [],
   "source": []
  }
 ],
 "metadata": {
  "kernelspec": {
   "display_name": "Python 3 (ipykernel)",
   "language": "python",
   "name": "python3"
  },
  "language_info": {
   "codemirror_mode": {
    "name": "ipython",
    "version": 3
   },
   "file_extension": ".py",
   "mimetype": "text/x-python",
   "name": "python",
   "nbconvert_exporter": "python",
   "pygments_lexer": "ipython3",
   "version": "3.9.12"
  }
 },
 "nbformat": 4,
 "nbformat_minor": 5
}
